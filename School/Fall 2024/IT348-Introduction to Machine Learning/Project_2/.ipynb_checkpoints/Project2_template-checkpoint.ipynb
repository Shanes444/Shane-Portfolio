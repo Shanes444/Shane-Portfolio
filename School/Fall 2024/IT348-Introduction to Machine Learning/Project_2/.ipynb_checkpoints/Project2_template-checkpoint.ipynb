{
 "cells": [
  {
   "cell_type": "markdown",
   "metadata": {},
   "source": [
    "# Project 2"
   ]
  },
  {
   "cell_type": "code",
   "execution_count": 1,
   "metadata": {},
   "outputs": [],
   "source": [
    "# This project uses scikit-learn machine learning software toolkit\n",
    "# https://scikit-learn.org/stable/index.html\n",
    "\n",
    "import sklearn\n",
    "import numpy as np\n",
    "from sklearn.model_selection import train_test_split\n",
    "from sklearn.feature_extraction.text import CountVectorizer\n",
    "from sklearn.feature_extraction.text import TfidfTransformer\n",
    "from sklearn.feature_extraction.text import TfidfVectorizer\n",
    "from sklearn import metrics\n",
    "from sklearn.pipeline import Pipeline \n",
    "from sklearn.datasets import load_files\n",
    "from sklearn.linear_model import SGDClassifier\n",
    "from sklearn.ensemble import RandomForestClassifier\n",
    "from sklearn.naive_bayes import MultinomialNB\n",
    "from sklearn.tree import DecisionTreeClassifier\n",
    "from sklearn.svm import SVC\n",
    "from sklearn.model_selection import cross_val_score\n",
    "from sklearn.metrics import classification_report, accuracy_score\n",
    "\n",
    "# to make this notebook's output stable across runs\n",
    "np.random.seed(42)\n",
    "\n",
    "# input data \n",
    "DATA_DIR = './cleanRaw/'"
   ]
  },
  {
   "cell_type": "code",
   "execution_count": null,
   "metadata": {},
   "outputs": [],
   "source": []
  },
  {
   "cell_type": "code",
   "execution_count": 2,
   "metadata": {},
   "outputs": [
    {
     "name": "stdout",
     "output_type": "stream",
     "text": [
      "{'democratic': 23, 'republican': 24}\n"
     ]
    }
   ],
   "source": [
    "docs_data = load_files(DATA_DIR, encoding=\"utf-8\", decode_error=\"replace\",\n",
    "    description=None, load_content=True, shuffle=True, random_state=42)\n",
    "\n",
    "# calculate count of each category\n",
    "labels, counts = np.unique(docs_data.target, return_counts=True)\n",
    "\n",
    "# convert data.target_names to np array for indexing\n",
    "labels_str = np.array(docs_data.target_names)[labels]\n",
    "\n",
    "print(dict(zip(labels_str, counts)))"
   ]
  },
  {
   "cell_type": "code",
   "execution_count": 3,
   "metadata": {},
   "outputs": [
    {
     "data": {
      "text/plain": [
       "['democratic', 'republican']"
      ]
     },
     "execution_count": 3,
     "metadata": {},
     "output_type": "execute_result"
    }
   ],
   "source": [
    "docs_data.target_names"
   ]
  },
  {
   "cell_type": "code",
   "execution_count": 4,
   "metadata": {},
   "outputs": [],
   "source": [
    "X_train, X_test, y_train, y_test = train_test_split(docs_data.data, \n",
    "                                                    docs_data.target, test_size=0.4)"
   ]
  },
  {
   "cell_type": "code",
   "execution_count": 5,
   "metadata": {},
   "outputs": [
    {
     "name": "stdout",
     "output_type": "stream",
     "text": [
      "[('sgd_tfidf', 0.5666666666666667), ('svc_tfidf', 0.5733333333333334), ('sgd', 0.64), ('text_clf', 0.6466666666666667), ('svc', 0.6733333333333335)]\n"
     ]
    }
   ],
   "source": [
    "# refer to the following information:\n",
    "# CountVectorizer: Convert a collection of text documents to a matrix of token counts.\n",
    "# TfidfTransformer: Transform a count matrix to a normalized tf or tf-idf representation.\n",
    "# SGDClassifier with loss='log_loss': Linear classifiers with SGD training for logistic regression.\n",
    "# SGDClassifier with loss='modified_huber': Linear classifiers with SGD training for logistic regression.\n",
    "#\n",
    "# https://scikit-learn.org/stable/modules/generated/sklearn.feature_extraction.text.CountVectorizer.html\n",
    "# https://scikit-learn.org/stable/modules/generated/sklearn.feature_extraction.text.TfidfTransformer.html#sklearn.feature_extraction.text.TfidfTransformer\n",
    "# https://scikit-learn.org/stable/modules/generated/sklearn.linear_model.SGDClassifier.html\n",
    "# https://scikit-learn.org/1.5/modules/generated/sklearn.svm.SVC.html#sklearn.svm.SVC\n",
    "\n",
    "# Use max_features = 1000. Each input file has fewer than 1000 words.\n",
    "\n",
    "text_clf = Pipeline([('vect', CountVectorizer(stop_words=\"english\", \n",
    "                                              max_features=1000, decode_error=\"ignore\")),     \n",
    "                     ('tfidf', TfidfTransformer(use_idf=True)),\n",
    "                     ('text_clf', SGDClassifier(loss='log_loss', penalty='l2', alpha=1e-3))\n",
    "])\n",
    "\n",
    "sgd = Pipeline([\n",
    "        (\"count vectorizer\", CountVectorizer(stop_words=\"english\", \n",
    "                                             max_features=1000, decode_error=\"ignore\")),\n",
    "        (\"sgd\", SGDClassifier(loss=\"modified_huber\"))\n",
    "    ])\n",
    "\n",
    "sgd_tfidf = Pipeline([\n",
    "        (\"tfidf_vectorizer\", TfidfVectorizer(stop_words=\"english\", \n",
    "                                             max_features=1000, decode_error=\"ignore\")),\n",
    "        (\"sgd\", SGDClassifier(loss=\"modified_huber\"))\n",
    "    ])\n",
    " \n",
    "svc = Pipeline([\n",
    "        (\"count_vectorizer\", CountVectorizer(stop_words=\"english\", \n",
    "                                             max_features=1000, decode_error=\"ignore\")),\n",
    "        (\"linear svc\", SVC(kernel=\"linear\"))\n",
    "    ])\n",
    "\n",
    "svc_tfidf = Pipeline([\n",
    "        (\"tfidf_vectorizer\", TfidfVectorizer(stop_words=\"english\", \n",
    "                                             max_features=1000, decode_error=\"ignore\")),\n",
    "        (\"linear svc\", SVC(kernel=\"linear\"))\n",
    "    ])\n",
    "\n",
    "#----------- Question 1) ------------------------------\n",
    "# add two more classifiers here  <--- do this for project 2\n",
    "#--------------------------------------------------------\n",
    "# Naive Bayes: MultinomialNB()\n",
    "# Random forest\n",
    "# Decision tree\n",
    "\n",
    "\n",
    "\n",
    "# add your two models to the list of models below\n",
    "models = [\n",
    "    (\"text_clf\", text_clf),\n",
    "    (\"sgd\", sgd),\n",
    "    (\"sgd_tfidf\", sgd_tfidf),\n",
    "    (\"svc\", svc),\n",
    "    (\"svc_tfidf\", svc_tfidf),\n",
    "    ]\n",
    "\n",
    "unsorted_scores = [(name, cross_val_score(model, X_train, y_train, cv=5).mean()) \n",
    "                   for name, model in models]\n",
    "scores = sorted(unsorted_scores, key=lambda x: x[1])\n",
    "print(scores)  \n",
    "\n"
   ]
  },
  {
   "cell_type": "code",
   "execution_count": 6,
   "metadata": {},
   "outputs": [
    {
     "name": "stdout",
     "output_type": "stream",
     "text": [
      "0.5789473684210527\n",
      "\n",
      "              precision    recall  f1-score   support\n",
      "\n",
      "  democratic       0.62      0.50      0.56        10\n",
      "  republican       0.55      0.67      0.60         9\n",
      "\n",
      "    accuracy                           0.58        19\n",
      "   macro avg       0.59      0.58      0.58        19\n",
      "weighted avg       0.59      0.58      0.58        19\n",
      "\n"
     ]
    }
   ],
   "source": [
    "#---show only the best performace results: accuracy, other metrics, and confusion matrix\n",
    "#\n",
    "#---------------- Question 2) -------------------------\n",
    "# how to automatically find the best classifier <---- do this for project 2\n",
    "#---------------------------------------------------------\n",
    "best_model = text_clf                   # here, found the best classifier manually\n",
    "best_model.fit(X_train, y_train)     \n",
    "y_pred = best_model.predict(X_test)  \n",
    "\n",
    "print (accuracy_score(y_test, y_pred))\n",
    "print()\n",
    "print(classification_report(y_test, y_pred, target_names=docs_data.target_names))"
   ]
  },
  {
   "cell_type": "code",
   "execution_count": 7,
   "metadata": {},
   "outputs": [
    {
     "data": {
      "image/png": "[encoded data removed]",
      "text/plain": [
       "<Figure size 640x480 with 2 Axes>"
      ]
     },
     "metadata": {},
     "output_type": "display_data"
    }
   ],
   "source": [
    "from sklearn.metrics import confusion_matrix\n",
    "from sklearn.metrics import ConfusionMatrixDisplay\n",
    "\n",
    "cm = confusion_matrix(y_test, y_pred)\n",
    "cm_display = ConfusionMatrixDisplay(cm, display_labels=docs_data.target_names).plot()"
   ]
  },
  {
   "cell_type": "code",
   "execution_count": null,
   "metadata": {},
   "outputs": [],
   "source": []
  }
 ],
 "metadata": {
  "kernelspec": {
   "display_name": "Python 3 (ipykernel)",
   "language": "python",
   "name": "python3"
  },
  "language_info": {
   "codemirror_mode": {
    "name": "ipython",
    "version": 3
   },
   "file_extension": ".py",
   "mimetype": "text/x-python",
   "name": "python",
   "nbconvert_exporter": "python",
   "pygments_lexer": "ipython3",
   "version": "3.11.4"
  }
 },
 "nbformat": 4,
 "nbformat_minor": 4
}
